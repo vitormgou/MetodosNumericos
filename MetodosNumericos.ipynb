{
  "nbformat": 4,
  "nbformat_minor": 0,
  "metadata": {
    "colab": {
      "name": "MetodosNumericos.ipynb",
      "provenance": [],
      "collapsed_sections": [],
      "toc_visible": true,
      "include_colab_link": true
    },
    "kernelspec": {
      "name": "python3",
      "display_name": "Python 3"
    }
  },
  "cells": [
    {
      "cell_type": "markdown",
      "metadata": {
        "id": "view-in-github",
        "colab_type": "text"
      },
      "source": [
        "<a href=\"https://colab.research.google.com/github/vitormgou/MetodosNumericos/blob/main/MetodosNumericos.ipynb\" target=\"_parent\"><img src=\"https://colab.research.google.com/assets/colab-badge.svg\" alt=\"Open In Colab\"/></a>"
      ]
    },
    {
      "cell_type": "markdown",
      "metadata": {
        "id": "6rZxbDTjmce8"
      },
      "source": [
        "# Métodos Numéricos"
      ]
    },
    {
      "cell_type": "markdown",
      "metadata": {
        "id": "xMYOvuj7VXLy"
      },
      "source": [
        "# 1 - INTEGRAÇÃO NUMÉRICA"
      ]
    },
    {
      "cell_type": "markdown",
      "metadata": {
        "id": "PfjW4bpoJgOM"
      },
      "source": [
        "Queremos calcular $\\int_a^bf(x)dx$. \n",
        "Definimos $h = \\frac{b-a}{m}$ onde $m$ é o numero de intervalos. \n",
        "Dessa forma, definimos $x_i = i*h + a, \\quad i \\in \\{0, 1, \\dots m\\}$"
      ]
    },
    {
      "cell_type": "markdown",
      "metadata": {
        "id": "Kbny1rqNKidC"
      },
      "source": [
        "Com isso, a integral é calculada através da formula: $\\int_a^bf(x)dx \\approx M\\sum_{i=0}^{m} c_if(x_i) $ , onde o valor de $M$ e o valor de $c_i$ varia de acordo com o método."
      ]
    },
    {
      "cell_type": "code",
      "metadata": {
        "id": "yftDLd9iJQ_K"
      },
      "source": [
        "import numpy as np\n"
      ],
      "execution_count": null,
      "outputs": []
    },
    {
      "cell_type": "markdown",
      "metadata": {
        "id": "ZFrnBNCGL20l"
      },
      "source": [
        "## 1.1 - Regra do Trapézio: \n",
        "Temos que $M = \\frac{h}{2}$ e $c_0 = c_m = 1$ e $c_i = 2, \\text{  para  } i = 1, \\dots, m-1$."
      ]
    },
    {
      "cell_type": "code",
      "metadata": {
        "id": "bNxazYVfJYdg"
      },
      "source": [
        "def Trapezio(f, a, b, subintervalos):\n",
        "    h = (b-a)/subintervalos\n",
        "    pontos_x = np.zeros([subintervalos+1])\n",
        "    c_x = 2*np.ones([subintervalos+1])\n",
        "    c_x[0] = 1\n",
        "    c_x[-1] = 1\n",
        "    print(\"i \\t x(i) \\t \\t y(x(i)) \\t c(i)\" )    \n",
        "    resultado = 0\n",
        "    for i in range(len(pontos_x)):\n",
        "        pontos_x[i] = a + i*h\n",
        "        print(\"{} \\t {:.4f} \\t {:.4f} \\t {}\".format(i, pontos_x[i], f(pontos_x[i]), c_x[i]))\n",
        "        resultado = resultado + c_x[i]*f(pontos_x[i])\n",
        "        \n",
        "    resultado = (h/2)*resultado\n",
        "    print(\"Integral = {}\".format(resultado))\n",
        "    return resultado"
      ],
      "execution_count": null,
      "outputs": []
    },
    {
      "cell_type": "markdown",
      "metadata": {
        "id": "NC5tWB9tM2KD"
      },
      "source": [
        "## 1.2 - Regra do 1/3 de Simpson:\n",
        "Temos que $M = \\frac{h}{3}$ e $c_0 = c_m = 1$ e $c_i = 2 $, se $i$ for par e $c_i = 4$ se $i$ for ímpar."
      ]
    },
    {
      "cell_type": "code",
      "metadata": {
        "id": "UrmeeyOQMyAv",
        "colab": {
          "base_uri": "https://localhost:8080/"
        },
        "outputId": "b12f0e11-e2b4-41ac-b43e-14b34612e56d"
      },
      "source": [
        "def Simpson_1_3(f, a, b, subintervalos):\n",
        "    h = (b-a)/subintervalos\n",
        "    pontos_x = np.zeros([subintervalos+1])\n",
        "    c_x = np.ones([subintervalos+1])\n",
        "\n",
        "    print(\"i \\t x(i) \\t \\t y(x(i)) \\t c(i)\" )    \n",
        "    resultado = 0\n",
        "    for i in range(len(pontos_x)):\n",
        "        pontos_x[i] = a + i*h\n",
        "        if i != 0 and i != len(pontos_x)-1:\n",
        "            c_x[i] = 2 + 2*(i%2)\n",
        "\n",
        "        print(\"{} \\t {:.6f} \\t {:.6f} \\t {}\".format(i, pontos_x[i], f(pontos_x[i]), c_x[i]))\n",
        "        resultado = resultado + c_x[i]*f(pontos_x[i])\n",
        "\n",
        "    resultado = (h/3)*resultado\n",
        "    print(\"Integral = {}\".format(resultado))\n",
        "    return resultado\n",
        "\n",
        "def f(x):\n",
        "  if x == 0:\n",
        "    return 1\n",
        "  elif x == 0.25: \n",
        "    return 1.2848\n",
        "  elif x == 0.5: \n",
        "    return 1.68\n",
        "  elif x == 0.75:\n",
        "    return 2.1803\n",
        "  elif x == 1: \n",
        "    return 3.2183\n",
        "  elif x == 1.25: \n",
        "    return 3.9786\n",
        "  elif x == 1.5:\n",
        "    return 7.0129\n",
        "  elif x == 1.75:    \n",
        "    return 7.6304\n",
        "  elif x == 2:\n",
        "    return 15.3891\n",
        "\n",
        "Simpson_1_3(f,0,2,4)"
      ],
      "execution_count": 112,
      "outputs": [
        {
          "output_type": "stream",
          "text": [
            "i \t x(i) \t \t y(x(i)) \t c(i)\n",
            "0 \t 0.000000 \t 1.000000 \t 1.0\n",
            "1 \t 0.500000 \t 1.680000 \t 4.0\n",
            "2 \t 1.000000 \t 3.218300 \t 2.0\n",
            "3 \t 1.500000 \t 7.012900 \t 4.0\n",
            "4 \t 2.000000 \t 15.389100 \t 1.0\n",
            "Integral = 9.59955\n"
          ],
          "name": "stdout"
        },
        {
          "output_type": "execute_result",
          "data": {
            "text/plain": [
              "9.59955"
            ]
          },
          "metadata": {
            "tags": []
          },
          "execution_count": 112
        }
      ]
    },
    {
      "cell_type": "markdown",
      "metadata": {
        "id": "Du4BtmMGNyen"
      },
      "source": [
        "## 1.3 - Regra do 3/8 de Simpson:\n",
        "Temos que $M = \\frac{3h}{8}$ e $c_0 = c_m = 1$ e $c_i = 2 $, se $i$ for divisível por 3 e $c_i = 3$, caso contrário."
      ]
    },
    {
      "cell_type": "code",
      "metadata": {
        "id": "w2UORhHyMyXY",
        "colab": {
          "base_uri": "https://localhost:8080/"
        },
        "outputId": "1cb3453f-838a-4490-f215-41933c9557af"
      },
      "source": [
        "def Simpson_3_8(f, a, b, subintervalos):\n",
        "    h = (b-a)/subintervalos\n",
        "    pontos_x = np.zeros([subintervalos+1])\n",
        "    c_x = np.ones([subintervalos+1])\n",
        "\n",
        "    print(\"i \\t x(i) \\t \\t y(x(i)) \\t c(i)\" )    \n",
        "    resultado = 0\n",
        "    for i in range(len(pontos_x)):\n",
        "        pontos_x[i] = a + i*h\n",
        "        if i != 0 and i != len(pontos_x)-1:\n",
        "            if i%3 == 0:\n",
        "                c_x[i] = 2                \n",
        "            else:\n",
        "                c_x[i] = 3\n",
        "        print(\"{} \\t {:.4f} \\t {:.4f} \\t {}\".format(i, pontos_x[i], f(pontos_x[i]), c_x[i]))\n",
        "        resultado = resultado + c_x[i]*f(pontos_x[i])\n",
        "\n",
        "    resultado = (3*h/8)*resultado\n",
        "    print(\"Integral = {}\".format(resultado))\n",
        "    return \n",
        "\n",
        "def f(x):\n",
        "  return 5*x**4 - 3*x**2 + 1\n",
        "\n",
        "Simpson_3_8(f,-1,2,6)"
      ],
      "execution_count": 110,
      "outputs": [
        {
          "output_type": "stream",
          "text": [
            "i \t x(i) \t \t y(x(i)) \t c(i)\n",
            "0 \t -1.0000 \t 3.0000 \t 1.0\n",
            "1 \t -0.5000 \t 0.5625 \t 3.0\n",
            "2 \t 0.0000 \t 1.0000 \t 3.0\n",
            "3 \t 0.5000 \t 0.5625 \t 2.0\n",
            "4 \t 1.0000 \t 3.0000 \t 3.0\n",
            "5 \t 1.5000 \t 19.5625 \t 3.0\n",
            "6 \t 2.0000 \t 69.0000 \t 1.0\n",
            "Integral = 27.28125\n"
          ],
          "name": "stdout"
        }
      ]
    },
    {
      "cell_type": "markdown",
      "metadata": {
        "id": "RR9jQTnrnQDq"
      },
      "source": [
        "## 1.4 - Cálculo do Erro de Integração"
      ]
    },
    {
      "cell_type": "markdown",
      "metadata": {
        "id": "OI5BHNYDFt_f"
      },
      "source": [
        "Cálculo do Limitante superior do Erro (O erro \"exato\" é dado pela a igualdade e com um sinal de menos e é para um ponto especifico do intervalo, $E_{RR} = -(b-a)h^5 *f'(c)$ para algum c no intervalo) :\n",
        "\n",
        "Regra do retângulo : $|E_{RR}| \\leq \\frac{|b-a|h}{2} \\max _{c \\in[a ; b]}\\left|f^{\\prime}(c)\\right|$\n",
        "\n",
        "Regra do Ponto Média: $|E_{MR}| \\leq \\frac{|b-a|h^2}{24} \\max _{c \\in[a ; b]}\\left|f^{\\prime \\prime}(c)\\right|$\n",
        "\n",
        "Regra do Trapézio: $|E_{TR}| \\leq \\frac{|b-a|h^2}{12} \\max _{c \\in[a ; b]}\\left|f^{\\prime \\prime}(c)\\right|$\n",
        "\n",
        "Regra 1/3 de Simpson: $|E_{1/3SR}| \\leq \\frac{|b-a|h^4}{180} \\max _{c \\in[a ; b]}\\left|f^{(4)}(c)\\right|$\n",
        "\n",
        "Regra 3/8 de Simpson: $|E_{3/8SR}| \\leq \\frac{|b-a|h^4}{80} \\max _{c \\in[a ; b]}\\left|f^{(4)}(c)\\right|$ \n"
      ]
    },
    {
      "cell_type": "markdown",
      "metadata": {
        "id": "HZApnrwDdThI"
      },
      "source": [
        "Eemplo:\n",
        "$f(x) = e^x + 0.4*x^4$\n",
        "\n",
        "$f'(x) = e^x + 4*0.4*x^3$\n",
        "\n",
        "$f''(x) = e^x + 4*3*0.4*x^2$\n",
        "\n",
        "$f'''(x) = e^x + 4*3*2*0.4*x$\n",
        "\n",
        "$f''''(x) = e^x + 4*3*2*0.4 = e^x + 9.6$\n",
        "\n",
        "$h = (b-a) / m = 2/4=0.5$\n",
        "\n",
        "$E_{1/3SR} = \\frac{2\\cdot0.5^4}{180} |e^2 + 9.6| = $\n"
      ]
    },
    {
      "cell_type": "markdown",
      "metadata": {
        "id": "tMhEsjDsNlQ8"
      },
      "source": [
        "## 1.5 - Quadratura Gaussiana:\n",
        "\n",
        "Mudança de variável para mudar do intervalo $[a,b]$ para o intervalo $[-1,1]$:\n",
        "\n",
        "$I=\\int_{a}^{b} f(x) d x=\\int_{-1}^{1} f\\Big{(}\\frac{(b-a)}{2}t + \\frac{b+a}{2}\\Big{)} \\frac{b-a}{2} d t$\n",
        "\n",
        "Para $n$ pontos a integral é dada por:\n",
        "\n",
        "$\\int_{-1}^{1} f\\Big{(}\\frac{(b-a)}{2}t + \\frac{b+a}{2}\\Big{)} \\frac{b-a}{2} d t \\approx \\frac{b-a}{2}\\sum_{i=1}^{n} w_{i} f\\left(x_{i}\\right)$ \n",
        "\n",
        "Uma fórmula de Quadratura Gaussiana com os pontos $t_0, t_1, \\dots, t_n$ tem grau de precisão polinomial dado por; $2n + 1$, ou seja, é exata para polinômios de grau $\\leq 2n + 1$"
      ]
    },
    {
      "cell_type": "code",
      "metadata": {
        "id": "2rfdh3Lb6So-"
      },
      "source": [
        "from scipy.special import roots_legendre\n",
        "\n",
        "def gaussian_int(f,a,b,grau):\n",
        "  t, w = roots_legendre(grau+1)\n",
        "  fzao = lambda t : f(  ( (b-a)*t+b+a )/2  ) #altera f para fzao\n",
        "  result = (b-a)*sum([w[i]*fzao(t[i]) for i in range(grau+1)]) / 2\n",
        "  print(\"Integral = {}\".format(result))\n",
        "  return result\n",
        "\n"
      ],
      "execution_count": null,
      "outputs": []
    },
    {
      "cell_type": "markdown",
      "metadata": {
        "id": "bAtN8-DNUABq"
      },
      "source": [
        "## 1.6 - Erro de Integração na Qaudratura de Gauss-Legendre:\n",
        "$E_n = \\frac{(b-a)^{2n+1}(n!)^4}{(2n+1)[(2!)]^3}f^{(2n)}(\\theta) \\quad \\theta \\in [a,b]$"
      ]
    },
    {
      "cell_type": "markdown",
      "metadata": {
        "id": "M-PGcXJ29dc-"
      },
      "source": [
        "## 1.7 - Teste das Integrações"
      ]
    },
    {
      "cell_type": "code",
      "metadata": {
        "colab": {
          "base_uri": "https://localhost:8080/"
        },
        "id": "L5QJjS71ztZo",
        "outputId": "9025efbe-2678-43dc-bf13-004fdc6df908"
      },
      "source": [
        "def f(x):\n",
        "  if x == 0:\n",
        "    return 1\n",
        "  elif x == 0.25:\n",
        "    return 1.2848\n",
        "  elif x == 0.5:\n",
        "    return 1.68\n",
        "  elif x == 0.75:\n",
        "    return 2.1803\n",
        "  elif x == 1:\n",
        "    return 3.2183\n",
        "  elif x == 1.25:\n",
        "    return 3.9786\n",
        "  elif x == 1.5:\n",
        "    return 7.0129\n",
        "  elif x == 1.75:\n",
        "    return 7.6304\n",
        "  elif x == 2:\n",
        "    return 15.3891\n",
        "  else:\n",
        "    print(\"Indefinido!\")\n",
        "\n",
        "def g(x):\n",
        "  return x**3 + x**2 + 5*x + 7 \n",
        "\n",
        "# ret = Simpson_1_3(f, 0, 2, 4)\n",
        "ret = gaussian_int(g,0,2,3)"
      ],
      "execution_count": null,
      "outputs": [
        {
          "output_type": "stream",
          "text": [
            "i \t x(i) \t \t y(x(i)) \t c(i)\n",
            "0 \t 0.0000 \t 7.0000 \t 1.0\n",
            "1 \t 0.5000 \t 9.8750 \t 4.0\n",
            "2 \t 1.0000 \t 14.0000 \t 2.0\n",
            "3 \t 1.5000 \t 20.1250 \t 4.0\n",
            "4 \t 2.0000 \t 29.0000 \t 1.0\n",
            "Integral = 30.666666666666664\n",
            "[-0.86113631 -0.33998104  0.33998104  0.86113631]\n",
            "[0.34785485 0.65214515 0.65214515 0.34785485]\n",
            "Integral = 30.666666666666664\n"
          ],
          "name": "stdout"
        }
      ]
    },
    {
      "cell_type": "markdown",
      "metadata": {
        "id": "hrqXeBGKVinI"
      },
      "source": [
        "\n",
        "# 2 - RAIZ DE EQUAÇÃO\n"
      ]
    },
    {
      "cell_type": "markdown",
      "metadata": {
        "id": "1f9cIL2CJm6i"
      },
      "source": [
        "## 2.1 - Teorema de Lagrange (Limite Superior das raízes positivas de P(x)):\n",
        "Dada a equação $P(x) = c_nx^n + c_{n-1}x^{n-1} + \\dots + c_1x + c_0 = 0$, se $c_n>0$ e $k$ ($0\\leq k \\leq n-1$) for o maior índice de coeficiente escolhido entre os coeficientes negativos, então o **limite superior das raízes positivas** de $P(x) = 0$ pode ser dado por \n",
        "\n",
        "$L = 1 + \\sqrt[n-k]{\\frac{B}{c_n}}$\n",
        "\n",
        "em que $B$ é o módulo do menor coeficiente negativo.\n",
        "\n",
        "\n"
      ]
    },
    {
      "cell_type": "markdown",
      "metadata": {
        "id": "j6KUHqwLK3Mm"
      },
      "source": [
        "**Ex teorema de Lagrange:**\n",
        "$P(x) = 2x^4 + 4x^3 - 11x^2 - 14x + 10 = 0$\n",
        "\n",
        "Os coeficientes negativos são $c_2 = -11$ e $c_1 = -14$ \n",
        "\n",
        "Logo, $k = 2$, pois $2>1$ \n",
        "\n",
        "Além disso, $B = |-14|$\n",
        "\n",
        "Entao, $L = 1 + \\sqrt[4-2]{\\frac{14}{2}} = 1 + \\sqrt{7}$"
      ]
    },
    {
      "cell_type": "markdown",
      "metadata": {
        "id": "dkuur6_lLqEx"
      },
      "source": [
        "## 2.2 - Limite Inferior das raízes positivas:\n",
        "\n",
        "Consideramos a eq auxiliar $P_1(x) = x^nP(1/x) = 0$, para $x \\neq 0$.\n",
        "\n",
        "**$L_1$ é limite superior das raízes positivas de $P_1(x)$**\n",
        "\n",
        "$\\frac{1}{\\xi_i} \\leq L_1 \\implies \\xi_i \\geq \\frac{1}{L_1}$\n",
        "\n",
        "**$\\frac{1}{L_1}$ é limite inferior das raízes positivas de $P(x)$**"
      ]
    },
    {
      "cell_type": "markdown",
      "metadata": {
        "id": "cGWhgLKUNtpV"
      },
      "source": [
        "## 2.3 - Limite inferior das raízes negativas de $P(x)$\n",
        "\n",
        "Consideramos a eq auxiliar $P_2(x) = P(-x) = 0$\n",
        "\n",
        "Encontramos $L_2$ o limite superior das raízes positivas de $P_2(x) = 0$ então $\\xi_r \\geq - L_2$, ou seja $-L_2$ **é limite inferior das raízes negativas** de $P(x)=0$"
      ]
    },
    {
      "cell_type": "markdown",
      "metadata": {
        "id": "VVOrZMuIOy-m"
      },
      "source": [
        "## 2.4 - Limite superior das raízes negativas de $P(x)$\n",
        "\n",
        "Consideramos a eq auxiliar $P_3(x) = x^nP(-1/x)=0$, para $x\\neq0$\n",
        "\n",
        "Encontramos $L_3$ o limite superior das raízes positivas de $P_3(x)=0$. Então $-\\frac{1}{L_3}$ é **limite superior das raízes negativas de $P(x)$**"
      ]
    },
    {
      "cell_type": "code",
      "metadata": {
        "colab": {
          "base_uri": "https://localhost:8080/",
          "height": 398
        },
        "id": "b7142QPPRA49",
        "outputId": "03347930-e134-4ebf-d30d-4cec1721ade3"
      },
      "source": [
        "import pandas as pd\n",
        "\n",
        "def limRaizes(coef):\n",
        "  listCoef = []\n",
        "  numRaizesPos = 0\n",
        "  numRaizesNeg = 0\n",
        "\n",
        "  n = len(coef) - 1\n",
        "\n",
        "  for i in range(n):\n",
        "    if (coef[i] > 0 and coef[i+1] > 0) or (coef[i] < 0 and coef[i+1] < 0):\n",
        "      numRaizesNeg += 1\n",
        "    elif (coef[i] > 0 and coef[i+1] < 0) or (coef[i] < 0 and coef[i+1] > 0):\n",
        "      numRaizesPos += 1\n",
        "\n",
        "\n",
        "  for i in range(n+1):\n",
        "    listCoef.append('c_' + str(n-i))\n",
        "  \n",
        "  idx = pd.Index(listCoef + ['k', 'n-k', 'B', 'L_i', 'L_xi'] , name = 'n = ' + str(n))\n",
        "  tab = pd.DataFrame(np.zeros([n+6,4]), columns = ['P(x)', 'P1(x)', 'P2(x)', 'P3(x)'], index=idx)\n",
        "\n",
        "  # print(tab.loc(,'P(x)'))\n",
        "  tab['P(x)'].iloc[0:n+1] = coef  \n",
        "  coef.reverse()\n",
        "  tab['P1(x)'].iloc[0:n+1] = coef\n",
        "  if tab['P1(x)'].iloc[0] < 0:\n",
        "    tab['P1(x)'].iloc[0:n+1] = -tab['P1(x)'].iloc[0:n+1]\n",
        "\n",
        "\n",
        "  coef2 = [((-1)**i)*x for i, x in enumerate(coef)]\n",
        "  tab['P3(x)'].iloc[0:n+1] = coef2\n",
        "\n",
        "  if tab['P3(x)'].iloc[0] < 0:\n",
        "    tab['P3(x)'].iloc[0:n+1] = -tab['P3(x)'].iloc[0:n+1]\n",
        "\n",
        "  coef2.reverse()\n",
        "  tab['P2(x)'].iloc[0:n+1] = coef2\n",
        "\n",
        "  if tab['P2(x)'].iloc[0] < 0:\n",
        "    tab['P2(x)'].iloc[0:n+1] = -tab['P2(x)'].iloc[0:n+1]\n",
        "\n",
        "  \n",
        "\n",
        "  # print(np.argmax( tab['P(x)'].iloc[1:n+1] < 0 ))\n",
        "  x = tab.iloc[1:n+1]<0\n",
        "  x = x.values\n",
        "  x = np.argmax(x, axis=0)\n",
        "  x = (n-1) - x\n",
        "\n",
        "  tab.loc['k'] = x\n",
        "  tab.loc['n-k'] = n-x\n",
        "  tab.loc['B'] = tab.iloc[1:n+1].min().abs()\n",
        "  tab.loc['L_i'] = 1 + (tab.loc['B']/tab.iloc[0])**(1/(tab.loc['n-k']))\n",
        "  tab.loc['L_xi'] = [tab.loc['L_i','P(x)'], 1/tab.loc['L_i','P1(x)'], -tab.loc['L_i','P2(x)'], -1/tab.loc['L_i','P3(x)']]\n",
        "\n",
        "  # print(np.argmax(tab.iloc[1:n+1] < 0, axis = 0))\n",
        "  # x = np.where(tab.iloc[1:n+1] < 0)\n",
        "  \n",
        "  # print(tab.query('`P(x)` < 0')['P(x)'])\n",
        "  # print(tab.query('`P1(x)` < 0')['P1(x)'])\n",
        "  # print(tab.query('`P2(x)` < 0')['P2(x)'])\n",
        "  # print(tab.query('`P3(x)` < 0')['P3(x)'])\n",
        "  # print(tab[ tab['P(x)'].iloc[1:n+1] < 0 ].index)\n",
        "\n",
        "  print(\"Limites: {:.5f} <= R+ <= {:.5f} e {:.5f} <= R- <= {:.5f}\".format(tab.iloc[-1,1], tab.iloc[-1,0], tab.iloc[-1,2], tab.iloc[-1,3]))\n",
        "  print(\"Número de raízes: n+ = {} e n- = {}\".format(numRaizesPos, numRaizesNeg))\n",
        "  return tab\n",
        "#cn, cn-1, cn-2,. .. c1, c0\n",
        "# limRaizes([1, -3, -6, 8])\n",
        "limRaizes([3,-12,-10,25])"
      ],
      "execution_count": 113,
      "outputs": [
        {
          "output_type": "stream",
          "text": [
            "Limites: 0.67568 <= R+ <= 5.00000 e -3.88675 <= R- <= -0.59073\n",
            "Número de raízes: n+ = 2 e n- = 1\n"
          ],
          "name": "stdout"
        },
        {
          "output_type": "execute_result",
          "data": {
            "text/html": [
              "<div>\n",
              "<style scoped>\n",
              "    .dataframe tbody tr th:only-of-type {\n",
              "        vertical-align: middle;\n",
              "    }\n",
              "\n",
              "    .dataframe tbody tr th {\n",
              "        vertical-align: top;\n",
              "    }\n",
              "\n",
              "    .dataframe thead th {\n",
              "        text-align: right;\n",
              "    }\n",
              "</style>\n",
              "<table border=\"1\" class=\"dataframe\">\n",
              "  <thead>\n",
              "    <tr style=\"text-align: right;\">\n",
              "      <th></th>\n",
              "      <th>P(x)</th>\n",
              "      <th>P1(x)</th>\n",
              "      <th>P2(x)</th>\n",
              "      <th>P3(x)</th>\n",
              "    </tr>\n",
              "    <tr>\n",
              "      <th>n = 3</th>\n",
              "      <th></th>\n",
              "      <th></th>\n",
              "      <th></th>\n",
              "      <th></th>\n",
              "    </tr>\n",
              "  </thead>\n",
              "  <tbody>\n",
              "    <tr>\n",
              "      <th>c_3</th>\n",
              "      <td>3.0</td>\n",
              "      <td>25.000000</td>\n",
              "      <td>3.000000</td>\n",
              "      <td>25.00000</td>\n",
              "    </tr>\n",
              "    <tr>\n",
              "      <th>c_2</th>\n",
              "      <td>-12.0</td>\n",
              "      <td>-10.000000</td>\n",
              "      <td>12.000000</td>\n",
              "      <td>10.00000</td>\n",
              "    </tr>\n",
              "    <tr>\n",
              "      <th>c_1</th>\n",
              "      <td>-10.0</td>\n",
              "      <td>-12.000000</td>\n",
              "      <td>-10.000000</td>\n",
              "      <td>-12.00000</td>\n",
              "    </tr>\n",
              "    <tr>\n",
              "      <th>c_0</th>\n",
              "      <td>25.0</td>\n",
              "      <td>3.000000</td>\n",
              "      <td>-25.000000</td>\n",
              "      <td>-3.00000</td>\n",
              "    </tr>\n",
              "    <tr>\n",
              "      <th>k</th>\n",
              "      <td>2.0</td>\n",
              "      <td>2.000000</td>\n",
              "      <td>1.000000</td>\n",
              "      <td>1.00000</td>\n",
              "    </tr>\n",
              "    <tr>\n",
              "      <th>n-k</th>\n",
              "      <td>1.0</td>\n",
              "      <td>1.000000</td>\n",
              "      <td>2.000000</td>\n",
              "      <td>2.00000</td>\n",
              "    </tr>\n",
              "    <tr>\n",
              "      <th>B</th>\n",
              "      <td>12.0</td>\n",
              "      <td>12.000000</td>\n",
              "      <td>25.000000</td>\n",
              "      <td>12.00000</td>\n",
              "    </tr>\n",
              "    <tr>\n",
              "      <th>L_i</th>\n",
              "      <td>5.0</td>\n",
              "      <td>1.480000</td>\n",
              "      <td>3.886751</td>\n",
              "      <td>1.69282</td>\n",
              "    </tr>\n",
              "    <tr>\n",
              "      <th>L_xi</th>\n",
              "      <td>5.0</td>\n",
              "      <td>0.675676</td>\n",
              "      <td>-3.886751</td>\n",
              "      <td>-0.59073</td>\n",
              "    </tr>\n",
              "  </tbody>\n",
              "</table>\n",
              "</div>"
            ],
            "text/plain": [
              "       P(x)      P1(x)      P2(x)     P3(x)\n",
              "n = 3                                      \n",
              "c_3     3.0  25.000000   3.000000  25.00000\n",
              "c_2   -12.0 -10.000000  12.000000  10.00000\n",
              "c_1   -10.0 -12.000000 -10.000000 -12.00000\n",
              "c_0    25.0   3.000000 -25.000000  -3.00000\n",
              "k       2.0   2.000000   1.000000   1.00000\n",
              "n-k     1.0   1.000000   2.000000   2.00000\n",
              "B      12.0  12.000000  25.000000  12.00000\n",
              "L_i     5.0   1.480000   3.886751   1.69282\n",
              "L_xi    5.0   0.675676  -3.886751  -0.59073"
            ]
          },
          "metadata": {
            "tags": []
          },
          "execution_count": 113
        }
      ]
    },
    {
      "cell_type": "markdown",
      "metadata": {
        "id": "kRILV6kBxSwU"
      },
      "source": [
        "## 2.5 - Critério de Parada\n",
        "Sejam $\\xi$ uma raiz e $x_k$ uma raiz aproximada de $f(x) = 0$, com $\\xi$ e $x_k \\in [a,b]$. Sendo $m = \\min_{a\\leq x\\leq b}|f'(x)|$, com $m\\neq0$ então o erro absoluto satisfaz\n",
        "\n",
        "$|x_k - \\xi| \\leq \\frac{|f(x_k)|}{m}$"
      ]
    },
    {
      "cell_type": "markdown",
      "metadata": {
        "id": "oKIpCowezkhX"
      },
      "source": [
        "Critérios de parada:\n",
        "\n",
        "$|x_k - x_{k-1}|\\leq \\epsilon$\n",
        "\n",
        "$\\frac{|x_k - x_{k-1}|}{|x_k|}\\leq \\epsilon$\n",
        "\n",
        "$|f(x_k)|\\leq \\epsilon$\n"
      ]
    },
    {
      "cell_type": "markdown",
      "metadata": {
        "id": "FtW3PLeb9-Fr"
      },
      "source": [
        "Uma sequência $\\{x_n|n\\geq0\\}$ é dita convergir com ordem $p\\geq 1$ para um popnto $\\alpha$ se\n",
        "\n",
        "$|\\alpha-x_{n+1}| \\leq c|\\alpha - x_n|^p, \\quad n\\geq0$\n",
        "\n",
        "para uma constante $c>0$.\n",
        "\n",
        "Sendo $c<1$, dizemos que :\n",
        "\n",
        "se $p = 1$: convergência linear\n",
        "\n",
        "se $1<p<2$: convergência super-linear\n",
        "\n",
        "se $p=2$: convergência quadrática\n"
      ]
    },
    {
      "cell_type": "markdown",
      "metadata": {
        "id": "oKLPMRcb_NTi"
      },
      "source": [
        "## 2.5 - Método da Bisseção\n",
        "\n",
        "Começa em um intervalo $[a,b]$ tal que $f(a)f(b) < 0$\n",
        "\n",
        "$x_k = \\frac{a+b}{2}$\n",
        "\n",
        "se $f(a)f(x_k)<0 $ então $b = x_k$\n",
        "\n",
        "se $f(b)f(x_k)<0 $ então $a = x_k$\n",
        "\n",
        "Convergência linear $K = 1/2$\n"
      ]
    },
    {
      "cell_type": "code",
      "metadata": {
        "id": "-z7504Oe1sj7",
        "colab": {
          "base_uri": "https://localhost:8080/"
        },
        "outputId": "3939dd88-0983-4432-d879-f3c59e43c63e"
      },
      "source": [
        "import pandas as pd\n",
        "\n",
        "def bissecao(f, a, b, tol = 0, max_iteracoes = 1000):\n",
        "\n",
        "  tab = pd.DataFrame(columns = ['a_k', 'Fa_k', 'b_k', 'Fb_k', 'deltax_k', 'x_k', 'Fx_k'])\n",
        "  tab.index.name = 'k' \n",
        "  \n",
        "  iterr = 0\n",
        "  erro = tol + 1\n",
        "  while (erro > tol and iterr < max_iteracoes):\n",
        "    ak = a\n",
        "    Fa_k = f(ak)\n",
        "    bk = b\n",
        "    Fb_k = f(bk)\n",
        "\n",
        "    x_k = (a+b)/2\n",
        "    Fx_k = f(x_k)\n",
        "\n",
        "    if Fx_k*Fa_k < 0:\n",
        "      b = x_k\n",
        "      deltax_k = abs(x_k - bk)\n",
        "    elif Fx_k*Fb_k < 0:\n",
        "      a = x_k\n",
        "      deltax_k = abs(x_k - ak)\n",
        "    tab.loc[iterr] = np.round([ak, Fa_k, bk, Fb_k, deltax_k, x_k, Fx_k], 5)\n",
        "    iterr = iterr + 1\n",
        "    # erro = abs(Fx_k)\n",
        "    # erro = deltax_k\n",
        "    erro = max(abs(Fx_k),deltax_k)\n",
        "  raiz = tab['x_k'].iloc[-1]\n",
        "  return tab, raiz\n",
        "\n",
        "def f(x):\n",
        "  return 5*x**3 - 13*x -20\n",
        "\n",
        "def g(x):\n",
        "  return 1/x - 1/2\n",
        "\n",
        "def h(x):\n",
        "  return 0.05*x**3 - 0.4*x**2 + 3*x*np.cos(x) + 1\n",
        "\n",
        "bissecao(h, 10, 12, 0.01, 10)"
      ],
      "execution_count": 63,
      "outputs": [
        {
          "output_type": "execute_result",
          "data": {
            "text/plain": [
              "(        a_k      Fa_k       b_k      Fb_k  deltax_k       x_k      Fx_k\n",
              " k                                                                      \n",
              " 0  10.00000 -14.17215  12.00000  60.17874   1.00000  11.00000  19.29605\n",
              " 1  10.00000 -14.17215  11.00000  19.29605   0.50000  10.50000  -0.19816\n",
              " 2  10.50000  -0.19816  11.00000  19.29605   0.25000  10.75000   9.04944\n",
              " 3  10.50000  -0.19816  10.75000   9.04944   0.12500  10.62500   4.27334\n",
              " 4  10.50000  -0.19816  10.62500   4.27334   0.06250  10.56250   1.99637\n",
              " 5  10.50000  -0.19816  10.56250   1.99637   0.03125  10.53125   0.88842\n",
              " 6  10.50000  -0.19816  10.53125   0.88842   0.01562  10.51562   0.34241\n",
              " 7  10.50000  -0.19816  10.51562   0.34241   0.00781  10.50781   0.07144\n",
              " 8  10.50000  -0.19816  10.50781   0.07144   0.00391  10.50391  -0.06353\n",
              " 9  10.50391  -0.06353  10.50781   0.07144   0.00195  10.50586   0.00391,\n",
              " 10.50586)"
            ]
          },
          "metadata": {
            "tags": []
          },
          "execution_count": 63
        }
      ]
    },
    {
      "cell_type": "markdown",
      "metadata": {
        "id": "LwkZYF-valbq"
      },
      "source": [
        "## 2.6 - Métodos baseados em aproximação linear\n"
      ]
    },
    {
      "cell_type": "markdown",
      "metadata": {
        "id": "DBi62WYUbP2u"
      },
      "source": [
        "### 2.6.1 Método da Secante\n",
        "\n",
        "Cálcula-se $x_k$ pela secante que passa pelos pontos $[a_k,f(a_k)] $ e $[b_k,f(b_k)]$.\n",
        "\n",
        "$x_k = b_k - \\Delta{x_k}$, sendo $\\Delta{x_k} = \\frac{f(b_k)}{f(b_k)-f(a_k)}(b_k - a_k)$\n",
        "\n",
        "$a_{k+1} = b_k$\n",
        "\n",
        "$b_{k+1} = x_k$"
      ]
    },
    {
      "cell_type": "code",
      "metadata": {
        "colab": {
          "base_uri": "https://localhost:8080/"
        },
        "id": "uCFnMph-b2Un",
        "outputId": "c474319a-0320-4da2-c7e2-dc956e29d94a"
      },
      "source": [
        "import pandas as pd\n",
        "\n",
        "def secante(f, a, b, tol = 0, max_iteracoes = 1000):\n",
        "\n",
        "  tab = pd.DataFrame(columns = ['a_k', 'Fa_k', 'b_k', 'Fb_k', 'deltax_k', 'x_k', 'Fx_k'])\n",
        "  tab.index.name = 'k' \n",
        "  \n",
        "  iterr = 0\n",
        "  erro = tol + 1\n",
        "  Fb_k = tol + 1\n",
        "  Fx_k = 0\n",
        "  while ((erro > tol) and iterr < max_iteracoes):\n",
        "    ak = a\n",
        "    Fa_k = f(ak)\n",
        "    bk = b\n",
        "    Fb_k = f(bk)\n",
        "\n",
        "    deltax_k = Fb_k*(bk - ak)/(Fb_k - Fa_k)\n",
        "    x_k = bk - deltax_k\n",
        "    Fx_k = f(x_k)\n",
        "\n",
        "    a = b\n",
        "    b = x_k\n",
        "    tab.loc[iterr] = np.round([ak, Fa_k, bk, Fb_k, deltax_k, x_k, Fx_k], 5)\n",
        "    iterr = iterr + 1\n",
        "    # erro = abs(Fx_k)\n",
        "    # erro = deltax_k\n",
        "    erro = max(abs(Fx_k),deltax_k)\n",
        "  raiz = tab['x_k'].iloc[-1]\n",
        "  return tab, raiz\n",
        "\n",
        "def f(x):\n",
        "  return np.exp(x) - 11\n",
        "\n",
        "#Para o exemplo da funcao g, ele converge mas fora do intervalo inicial\n",
        "def g(x):\n",
        "  return 2*x**4 + 4*x**3 - 11*x**2 - 14*x + 10\n",
        "\n",
        "secante(g, -3, -2, tol = 10**(-3), max_iteracoes = 10)"
      ],
      "execution_count": 76,
      "outputs": [
        {
          "output_type": "execute_result",
          "data": {
            "text/plain": [
              "(       a_k      Fa_k      b_k      Fb_k  deltax_k      x_k      Fx_k\n",
              " k                                                                   \n",
              " 0 -3.00000   7.00000 -2.00000  -6.00000   0.46154 -2.46154  -8.42176\n",
              " 1 -2.00000  -6.00000 -2.46154  -8.42176  -1.60502 -0.85652  12.48431\n",
              " 2 -2.46154  -8.42176 -0.85652  12.48431   0.95845 -1.81498  -3.03831\n",
              " 3 -0.85652  12.48431 -1.81498  -3.03831  -0.18760 -1.62737   0.43949\n",
              " 4 -1.81498  -3.03831 -1.62737   0.43949   0.02371 -1.65108  -0.01258\n",
              " 5 -1.62737   0.43949 -1.65108  -0.01258  -0.00066 -1.65042  -0.00003,\n",
              " -1.65042)"
            ]
          },
          "metadata": {
            "tags": []
          },
          "execution_count": 76
        }
      ]
    },
    {
      "cell_type": "markdown",
      "metadata": {
        "id": "YW6u_RG6jFip"
      },
      "source": [
        "### 2.6.2 - Regula-Falsi\n",
        "Estratégia parecida com a do método da secante, porém, garantindo que o ponto permaneça no intervalo.\n",
        "\n",
        "Cálcula-se $x_k$ pela secante que passa pelos pontos $[a_k,f(a_k)] $ e $[b_k,f(b_k)]$.\n",
        "\n",
        "$x_k = b_k - \\Delta{x_k}$, sendo $\\Delta{x_k} = \\frac{f(b_k)}{f(b_k)-f(a_k)}(b_k - a_k)$\n",
        "\n",
        "Se $f(b_{k})f(x_k) < 0$ então $a_{k+1} = b_{k}$ senão, $a_{k+1} = a_k$\n",
        "\n",
        "$b_{k+1} = x_k$"
      ]
    },
    {
      "cell_type": "code",
      "metadata": {
        "colab": {
          "base_uri": "https://localhost:8080/"
        },
        "id": "tVnqERl8kS1Y",
        "outputId": "9d664a0b-9282-4549-e0b4-e0ff07324646"
      },
      "source": [
        "import pandas as pd\n",
        "\n",
        "def regula_falsi(f, a, b, tol = 0, max_iteracoes = 1000):\n",
        "\n",
        "  tab = pd.DataFrame(columns = ['a_k', 'Fa_k', 'b_k', 'Fb_k', 'deltax_k', 'x_k', 'Fx_k'])\n",
        "  tab.index.name = 'k' \n",
        "  \n",
        "  iterr = 0\n",
        "  erro = tol + 1\n",
        "  Fb_k = tol + 1\n",
        "  Fx_k = 0\n",
        "  while ((erro > tol) and iterr < max_iteracoes):\n",
        "    ak = a\n",
        "    Fa_k = f(ak)\n",
        "    bk = b\n",
        "    Fb_k = f(bk)\n",
        "\n",
        "    deltax_k = Fb_k*(bk - ak)/(Fb_k - Fa_k)\n",
        "    x_k = bk - deltax_k\n",
        "    Fx_k = f(x_k)\n",
        "\n",
        "\n",
        "    if (Fb_k*Fx_k < 0):\n",
        "      a = bk  \n",
        "    b = x_k\n",
        "    tab.loc[iterr] = np.round([ak, Fa_k, bk, Fb_k, deltax_k, x_k, Fx_k], 5)\n",
        "    iterr = iterr + 1\n",
        "    # erro = abs(Fx_k)\n",
        "    # erro = deltax_k\n",
        "    erro = max(abs(Fx_k),deltax_k)\n",
        "  raiz = tab['x_k'].iloc[-1]\n",
        "  return tab, raiz\n",
        "\n",
        "def f(x):\n",
        "  return np.exp(x) - 11\n",
        "\n",
        "#Para o exemplo da funcao g, ele converge mas fora do intervalo inicial\n",
        "def g(x):\n",
        "  return 2*x**4 + 4*x**3 - 11*x**2 - 14*x + 10\n",
        "\n",
        "regula_falsi(f, 0, 3, tol = 10**(-3), max_iteracoes = 10)"
      ],
      "execution_count": 81,
      "outputs": [
        {
          "output_type": "execute_result",
          "data": {
            "text/plain": [
              "(   a_k      Fa_k      b_k     Fb_k  deltax_k      x_k     Fx_k\n",
              " k                                                             \n",
              " 0  0.0 -10.00000  3.00000  9.08554   1.42813  1.57187 -6.18435\n",
              " 1  3.0   9.08554  1.57187 -6.18435  -0.57840  2.15027 -2.41284\n",
              " 2  3.0   9.08554  2.15027 -2.41284  -0.17831  2.32858 -0.73667\n",
              " 3  3.0   9.08554  2.32858 -0.73667  -0.05036  2.37893 -0.20661\n",
              " 4  3.0   9.08554  2.37893 -0.20661  -0.01381  2.39274 -0.05653\n",
              " 5  3.0   9.08554  2.39274 -0.05653  -0.00375  2.39650 -0.01536\n",
              " 6  3.0   9.08554  2.39650 -0.01536  -0.00102  2.39752 -0.00417\n",
              " 7  3.0   9.08554  2.39752 -0.00417  -0.00028  2.39779 -0.00113\n",
              " 8  3.0   9.08554  2.39779 -0.00113  -0.00007  2.39787 -0.00031, 2.39787)"
            ]
          },
          "metadata": {
            "tags": []
          },
          "execution_count": 81
        }
      ]
    },
    {
      "cell_type": "markdown",
      "metadata": {
        "id": "I93GfPf5hpu2"
      },
      "source": [
        "### 2.6.3 - Método Pégaso\n"
      ]
    },
    {
      "cell_type": "code",
      "metadata": {
        "colab": {
          "base_uri": "https://localhost:8080/"
        },
        "id": "NFsn66Xhnu7i",
        "outputId": "af37b96e-e352-479c-de9e-54cd54cd998c"
      },
      "source": [
        "import pandas as pd\n",
        "\n",
        "def pegaso(f, a, b, tol = 0, max_iteracoes = 1000):\n",
        "\n",
        "  tab = pd.DataFrame(columns = ['a_k', 'Fa_k', 'b_k', 'Fb_k', 'deltax_k', 'x_k', 'Fx_k'])\n",
        "  tab.index.name = 'k' \n",
        "  \n",
        "  iterr = 0\n",
        "  erro = tol + 1\n",
        "  Fb_k = tol + 1\n",
        "  Fx_k = 0\n",
        "\n",
        "  ak = a\n",
        "  Fa_k = f(ak)\n",
        "  bk = b\n",
        "  Fb_k = f(bk)\n",
        "  \n",
        "  while ((erro > tol) and iterr < max_iteracoes):\n",
        "    \n",
        "    deltax_k = Fb_k*(bk - ak)/(Fb_k - Fa_k)\n",
        "    x_k = bk - deltax_k\n",
        "    Fx_k = f(x_k)\n",
        "\n",
        "    tab.loc[iterr] = [ak, Fa_k, bk, Fb_k, deltax_k, x_k, Fx_k]\n",
        "    if (Fb_k*Fx_k < 0):\n",
        "      a = b\n",
        "      ak = b\n",
        "      Fa_k = Fb_k\n",
        "    else:\n",
        "      Fa_k = Fa_k*Fb_k / (Fb_k + Fx_k)\n",
        "\n",
        "    b = x_k\n",
        "    bk = b\n",
        "    Fb_k = Fx_k\n",
        "\n",
        "    iterr = iterr + 1\n",
        "    erro = max(abs(Fx_k),deltax_k)\n",
        "  raiz = tab['x_k'].iloc[-1]\n",
        "  return tab, raiz\n",
        "\n",
        "def f(x):\n",
        "  return np.exp(x) - 11\n",
        "\n",
        "def h(x):\n",
        "  p = x**4 + 2*x**3 - 12*x**2 + 14*x - 5\n",
        "  q = 4*x**3 + 6*x**2 - 24*x + 14\n",
        "  return p/q\n",
        "\n",
        "# pegaso(f, 0, 3, tol = 10**(-3), max_iteracoes = 10)\n",
        "pegaso(h, 0, 1.5, tol = 10**(-5))\n"
      ],
      "execution_count": 108,
      "outputs": [
        {
          "output_type": "execute_result",
          "data": {
            "text/plain": [
              "(    a_k      Fa_k       b_k      Fb_k  deltax_k       x_k      Fx_k\n",
              " k                                                                  \n",
              " 0   0.0 -0.357143  1.500000  0.162500  0.469072  1.030928  0.010292\n",
              " 1   0.0 -0.335871  1.030928  0.010292  0.030650  1.000278  0.000093\n",
              " 2   0.0 -0.332879  1.000278  0.000093  0.000278  1.000000  0.000685\n",
              " 3   0.0 -0.039613  1.000000  0.000685  0.016997  0.983003 -0.005671\n",
              " 4   1.0  0.000685  0.983003 -0.005671 -0.015165  0.998168 -0.000611\n",
              " 5   1.0  0.000618  0.998168 -0.000611 -0.000910  0.999078 -0.000307\n",
              " 6   1.0  0.000411  0.999078 -0.000307 -0.000394  0.999472 -0.000176\n",
              " 7   1.0  0.000262  0.999472 -0.000176 -0.000212  0.999684 -0.000105\n",
              " 8   1.0  0.000164  0.999684 -0.000105 -0.000123  0.999808 -0.000064\n",
              " 9   1.0  0.000102  0.999808 -0.000064 -0.000074  0.999882 -0.000039\n",
              " 10  1.0  0.000063  0.999882 -0.000039 -0.000045  0.999927 -0.000024\n",
              " 11  1.0  0.000039  0.999927 -0.000024 -0.000028  0.999955 -0.000015\n",
              " 12  1.0  0.000024  0.999955 -0.000015 -0.000017  0.999972 -0.000009,\n",
              " 0.9999720852252375)"
            ]
          },
          "metadata": {
            "tags": []
          },
          "execution_count": 108
        }
      ]
    },
    {
      "cell_type": "markdown",
      "metadata": {
        "id": "Ki-_DUtksmRc"
      },
      "source": [
        "## 2.7 - Métodos baseados em derivada"
      ]
    },
    {
      "cell_type": "markdown",
      "metadata": {
        "id": "I5K-WVoAtn4h"
      },
      "source": [
        "### 2.7.1 - Método de Newton-Raphson\n",
        "\n",
        "Sejam $\\xi$ a única raiz de $f(x) = 0$ no intervalo $[a,b]$ e $x_0 \\in [a,b]$ uma aproximação inicial para a raíz com $x_0 \\in [a,b]$\n",
        "\n",
        "$x_{k+1} = x_k - \\frac{f(x_k)}{f'(x_k)}, \\quad k = 0,1,2,\\dots$\n"
      ]
    },
    {
      "cell_type": "code",
      "metadata": {
        "colab": {
          "base_uri": "https://localhost:8080/",
          "height": 175
        },
        "id": "PAEDSFjruxq-",
        "outputId": "4ca14160-4f03-41b2-b62c-420f192969a1"
      },
      "source": [
        "import pandas as pd\n",
        "\n",
        "\n",
        "def newton_raphson(f, df, x0, tol = 0, max_iteracoes = 1000, epsilon = 10**(-3)):\n",
        "  tab = pd.DataFrame(columns = ['x_k', 'Fx_k', 'DFx_k', 'deltax_k'])\n",
        "  tab.index.name = 'k'\n",
        "  \n",
        "  xk = x0\n",
        "  delta_xk = tol + 1\n",
        "  Fx_k = tol + 1\n",
        "  iterr = 0\n",
        "  while (abs(delta_xk) > tol or abs(Fx_k) > tol) and iterr < max_iteracoes:\n",
        "    Fx_k = f(xk)\n",
        "    DFx_k = df(xk)\n",
        "\n",
        "    if abs(DFx_k) < epsilon:\n",
        "      break\n",
        "    delta_xk = Fx_k / DFx_k\n",
        "    tab.loc[iterr] = [xk, Fx_k, DFx_k, delta_xk]\n",
        "    xk = xk - delta_xk\n",
        "\n",
        "    iterr += 1\n",
        "  return tab\n",
        "\n",
        "def f(x):\n",
        "  return np.sin(x) + 5*x**2 - 6\n",
        "\n",
        "def df(x):\n",
        "  return np.cos(x) + 10*x\n",
        "\n",
        "newton_raphson(f, df, 3.4, tol = 10**(-5), epsilon = 10**(-5), max_iteracoes = 3)\n",
        "# newton_raphson(f, df, 2, max_iteracoes = 10, epsilon = 10**(-5))\n"
      ],
      "execution_count": 117,
      "outputs": [
        {
          "output_type": "execute_result",
          "data": {
            "text/html": [
              "<div>\n",
              "<style scoped>\n",
              "    .dataframe tbody tr th:only-of-type {\n",
              "        vertical-align: middle;\n",
              "    }\n",
              "\n",
              "    .dataframe tbody tr th {\n",
              "        vertical-align: top;\n",
              "    }\n",
              "\n",
              "    .dataframe thead th {\n",
              "        text-align: right;\n",
              "    }\n",
              "</style>\n",
              "<table border=\"1\" class=\"dataframe\">\n",
              "  <thead>\n",
              "    <tr style=\"text-align: right;\">\n",
              "      <th></th>\n",
              "      <th>x_k</th>\n",
              "      <th>Fx_k</th>\n",
              "      <th>DFx_k</th>\n",
              "      <th>deltax_k</th>\n",
              "    </tr>\n",
              "    <tr>\n",
              "      <th>k</th>\n",
              "      <th></th>\n",
              "      <th></th>\n",
              "      <th></th>\n",
              "      <th></th>\n",
              "    </tr>\n",
              "  </thead>\n",
              "  <tbody>\n",
              "    <tr>\n",
              "      <th>0</th>\n",
              "      <td>3.400000</td>\n",
              "      <td>51.544459</td>\n",
              "      <td>33.033202</td>\n",
              "      <td>1.560383</td>\n",
              "    </tr>\n",
              "    <tr>\n",
              "      <th>1</th>\n",
              "      <td>1.839617</td>\n",
              "      <td>11.885032</td>\n",
              "      <td>18.130572</td>\n",
              "      <td>0.655524</td>\n",
              "    </tr>\n",
              "    <tr>\n",
              "      <th>2</th>\n",
              "      <td>1.184092</td>\n",
              "      <td>1.936530</td>\n",
              "      <td>12.218061</td>\n",
              "      <td>0.158497</td>\n",
              "    </tr>\n",
              "  </tbody>\n",
              "</table>\n",
              "</div>"
            ],
            "text/plain": [
              "        x_k       Fx_k      DFx_k  deltax_k\n",
              "k                                          \n",
              "0  3.400000  51.544459  33.033202  1.560383\n",
              "1  1.839617  11.885032  18.130572  0.655524\n",
              "2  1.184092   1.936530  12.218061  0.158497"
            ]
          },
          "metadata": {
            "tags": []
          },
          "execution_count": 117
        }
      ]
    },
    {
      "cell_type": "markdown",
      "metadata": {
        "id": "WJZr6amGGw9s"
      },
      "source": [
        "### 2.7.2 - Método de Halley\n",
        "\n",
        "Fórmula considera a derivada segunda da função:\n",
        "\n",
        "$x_{k+1} = x_k - \\frac{2f(x_k)f'(x_k)}{2[f'(x_k)]^2 - f(x_k)f''(x_k)}, \\quad k = 0,1,2,\\dots$"
      ]
    },
    {
      "cell_type": "code",
      "metadata": {
        "colab": {
          "base_uri": "https://localhost:8080/",
          "height": 175
        },
        "id": "67Dpr8IxvTdR",
        "outputId": "0f5ae17a-44d6-42d0-8e7f-349b4904d071"
      },
      "source": [
        "import pandas as pd\n",
        "\n",
        "\n",
        "def halley(f, df, ddf, x0, tol = 0, max_iteracoes = 1000, epsilon = 10**(-3)):\n",
        "  tab = pd.DataFrame(columns = ['x_k', 'Fx_k', 'DFx_k', 'D2Fx_k','deltax_k'])\n",
        "  tab.index.name = 'k'\n",
        "  \n",
        "  xk = x0\n",
        "  delta_xk = tol + 1\n",
        "  Fx_k = tol + 1\n",
        "  iterr = 0\n",
        "  while (abs(delta_xk) > tol or abs(Fx_k) > tol) and iterr < max_iteracoes:\n",
        "    Fx_k = f(xk)\n",
        "    DFx_k = df(xk)\n",
        "    DDFx_k = ddf(xk)\n",
        "\n",
        "    # if abs(DFx_k) < epsilon:\n",
        "    #   break\n",
        "    delta_xk = 2*Fx_k*DFx_k / (2*DFx_k**2 - Fx_k*DDFx_k)\n",
        "    tab.loc[iterr] = [xk, Fx_k, DFx_k, DDFx_k, delta_xk]\n",
        "    xk = xk - delta_xk\n",
        "\n",
        "    iterr += 1\n",
        "  return tab\n",
        "\n",
        "def f(x):\n",
        "  return x**3 - 2*x - 5\n",
        "\n",
        "def df(x):\n",
        "  return 3*x**2 - 2\n",
        "\n",
        "def ddf(x):\n",
        "  return 6*x\n",
        "\n",
        "halley(f,df,ddf,2,tol=10**(-5))"
      ],
      "execution_count": 100,
      "outputs": [
        {
          "output_type": "execute_result",
          "data": {
            "text/html": [
              "<div>\n",
              "<style scoped>\n",
              "    .dataframe tbody tr th:only-of-type {\n",
              "        vertical-align: middle;\n",
              "    }\n",
              "\n",
              "    .dataframe tbody tr th {\n",
              "        vertical-align: top;\n",
              "    }\n",
              "\n",
              "    .dataframe thead th {\n",
              "        text-align: right;\n",
              "    }\n",
              "</style>\n",
              "<table border=\"1\" class=\"dataframe\">\n",
              "  <thead>\n",
              "    <tr style=\"text-align: right;\">\n",
              "      <th></th>\n",
              "      <th>x_k</th>\n",
              "      <th>Fx_k</th>\n",
              "      <th>DFx_k</th>\n",
              "      <th>D2Fx_k</th>\n",
              "      <th>deltax_k</th>\n",
              "    </tr>\n",
              "    <tr>\n",
              "      <th>k</th>\n",
              "      <th></th>\n",
              "      <th></th>\n",
              "      <th></th>\n",
              "      <th></th>\n",
              "      <th></th>\n",
              "    </tr>\n",
              "  </thead>\n",
              "  <tbody>\n",
              "    <tr>\n",
              "      <th>0</th>\n",
              "      <td>2.000000</td>\n",
              "      <td>-1.000000e+00</td>\n",
              "      <td>10.000000</td>\n",
              "      <td>12.000000</td>\n",
              "      <td>-9.433962e-02</td>\n",
              "    </tr>\n",
              "    <tr>\n",
              "      <th>1</th>\n",
              "      <td>2.094340</td>\n",
              "      <td>-2.364368e-03</td>\n",
              "      <td>11.158775</td>\n",
              "      <td>12.566038</td>\n",
              "      <td>-2.118589e-04</td>\n",
              "    </tr>\n",
              "    <tr>\n",
              "      <th>2</th>\n",
              "      <td>2.094551</td>\n",
              "      <td>-2.413536e-11</td>\n",
              "      <td>11.161438</td>\n",
              "      <td>12.567309</td>\n",
              "      <td>-2.162388e-12</td>\n",
              "    </tr>\n",
              "  </tbody>\n",
              "</table>\n",
              "</div>"
            ],
            "text/plain": [
              "        x_k          Fx_k      DFx_k     D2Fx_k      deltax_k\n",
              "k                                                            \n",
              "0  2.000000 -1.000000e+00  10.000000  12.000000 -9.433962e-02\n",
              "1  2.094340 -2.364368e-03  11.158775  12.566038 -2.118589e-04\n",
              "2  2.094551 -2.413536e-11  11.161438  12.567309 -2.162388e-12"
            ]
          },
          "metadata": {
            "tags": []
          },
          "execution_count": 100
        }
      ]
    },
    {
      "cell_type": "markdown",
      "metadata": {
        "id": "cAyHZcq5LJLx"
      },
      "source": [
        "### 2.7.3 - Método de Schröder\n",
        "\n",
        "Modificação do método de Newton-Raphson para encontrar raiz de multiplicidade $m$\n",
        "\n",
        "$x_{k+1} = x_k - m \\frac{f(x_k)}{f'(x_k)}, \\quad k = 0, 1, 2, \\dots$"
      ]
    },
    {
      "cell_type": "code",
      "metadata": {
        "colab": {
          "base_uri": "https://localhost:8080/",
          "height": 206
        },
        "id": "f1xLHn4WItgZ",
        "outputId": "2365c643-8090-4527-aec1-abce9fe2544b"
      },
      "source": [
        "import pandas as pd\n",
        "\n",
        "def schroder(f, df, x0, m, tol = 0, max_iteracoes = 1000, epsilon = 10**(-3)):\n",
        "  tab = pd.DataFrame(columns = ['x_k', 'Fx_k', 'DFx_k', 'deltax_k'])\n",
        "  tab.index.name = 'k'\n",
        "  \n",
        "  xk = x0\n",
        "  delta_xk = tol + 1\n",
        "  Fx_k = tol + 1\n",
        "  iterr = 0\n",
        "  while (abs(delta_xk) > tol or abs(Fx_k) > tol) and iterr < max_iteracoes:\n",
        "    Fx_k = f(xk)\n",
        "    DFx_k = df(xk)\n",
        "\n",
        "\n",
        "    delta_xk = m*Fx_k / DFx_k\n",
        "    tab.loc[iterr] = [xk, Fx_k, DFx_k, delta_xk]\n",
        "    xk = xk - delta_xk\n",
        "\n",
        "    iterr += 1\n",
        "  return tab\n",
        "\n",
        "def f(x):\n",
        "  return x**4 + 2*x**3 - 12*x**2 + 14*x - 5\n",
        "\n",
        "def df(x):\n",
        "  return 4*x**3 + 6*x**2 - 24*x + 14\n",
        "\n",
        "schroder(f,df,1.5, 3, tol = 10**(-5))"
      ],
      "execution_count": 106,
      "outputs": [
        {
          "output_type": "execute_result",
          "data": {
            "text/html": [
              "<div>\n",
              "<style scoped>\n",
              "    .dataframe tbody tr th:only-of-type {\n",
              "        vertical-align: middle;\n",
              "    }\n",
              "\n",
              "    .dataframe tbody tr th {\n",
              "        vertical-align: top;\n",
              "    }\n",
              "\n",
              "    .dataframe thead th {\n",
              "        text-align: right;\n",
              "    }\n",
              "</style>\n",
              "<table border=\"1\" class=\"dataframe\">\n",
              "  <thead>\n",
              "    <tr style=\"text-align: right;\">\n",
              "      <th></th>\n",
              "      <th>x_k</th>\n",
              "      <th>Fx_k</th>\n",
              "      <th>DFx_k</th>\n",
              "      <th>deltax_k</th>\n",
              "    </tr>\n",
              "    <tr>\n",
              "      <th>k</th>\n",
              "      <th></th>\n",
              "      <th></th>\n",
              "      <th></th>\n",
              "      <th></th>\n",
              "    </tr>\n",
              "  </thead>\n",
              "  <tbody>\n",
              "    <tr>\n",
              "      <th>0</th>\n",
              "      <td>1.500000</td>\n",
              "      <td>8.125000e-01</td>\n",
              "      <td>5.000000e+00</td>\n",
              "      <td>0.487500</td>\n",
              "    </tr>\n",
              "    <tr>\n",
              "      <th>1</th>\n",
              "      <td>1.012500</td>\n",
              "      <td>1.174316e-05</td>\n",
              "      <td>2.820313e-03</td>\n",
              "      <td>0.012491</td>\n",
              "    </tr>\n",
              "    <tr>\n",
              "      <th>2</th>\n",
              "      <td>1.000009</td>\n",
              "      <td>5.329071e-15</td>\n",
              "      <td>1.348836e-09</td>\n",
              "      <td>0.000012</td>\n",
              "    </tr>\n",
              "    <tr>\n",
              "      <th>3</th>\n",
              "      <td>0.999997</td>\n",
              "      <td>0.000000e+00</td>\n",
              "      <td>1.838707e-10</td>\n",
              "      <td>0.000000</td>\n",
              "    </tr>\n",
              "  </tbody>\n",
              "</table>\n",
              "</div>"
            ],
            "text/plain": [
              "        x_k          Fx_k         DFx_k  deltax_k\n",
              "k                                                \n",
              "0  1.500000  8.125000e-01  5.000000e+00  0.487500\n",
              "1  1.012500  1.174316e-05  2.820313e-03  0.012491\n",
              "2  1.000009  5.329071e-15  1.348836e-09  0.000012\n",
              "3  0.999997  0.000000e+00  1.838707e-10  0.000000"
            ]
          },
          "metadata": {
            "tags": []
          },
          "execution_count": 106
        }
      ]
    },
    {
      "cell_type": "code",
      "metadata": {
        "id": "gx52bGwyNTrZ"
      },
      "source": [
        ""
      ],
      "execution_count": null,
      "outputs": []
    }
  ]
}